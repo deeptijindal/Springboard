{
 "cells": [
  {
   "cell_type": "markdown",
   "id": "afc1a716",
   "metadata": {},
   "source": [
    "## PART 2: SQLite\n",
    "\n",
    "Export the country club data from PHPMyAdmin, and connect to a local SQLite instance from Jupyter notebook \n",
    "for the following questions.  \n"
   ]
  },
  {
   "cell_type": "code",
   "execution_count": 1,
   "id": "698567e1",
   "metadata": {},
   "outputs": [],
   "source": [
    "# Import packages\n",
    "from sqlalchemy import create_engine\n",
    "import pandas as pd"
   ]
  },
  {
   "cell_type": "code",
   "execution_count": 7,
   "id": "8078d4ca",
   "metadata": {},
   "outputs": [],
   "source": [
    "# Create engine: engine\n",
    "connection = create_engine('sqlite:///sqlite_db_pythonsqlite.db')"
   ]
  },
  {
   "cell_type": "code",
   "execution_count": 8,
   "id": "fd23a30f",
   "metadata": {},
   "outputs": [],
   "source": [
    "# Execute query and store records in DataFrame: df\n",
    "df = pd.read_sql_query(\"Select * from Members\", connection)"
   ]
  },
  {
   "cell_type": "code",
   "execution_count": 9,
   "id": "b78dd327",
   "metadata": {},
   "outputs": [
    {
     "data": {
      "text/html": [
       "<div>\n",
       "<style scoped>\n",
       "    .dataframe tbody tr th:only-of-type {\n",
       "        vertical-align: middle;\n",
       "    }\n",
       "\n",
       "    .dataframe tbody tr th {\n",
       "        vertical-align: top;\n",
       "    }\n",
       "\n",
       "    .dataframe thead th {\n",
       "        text-align: right;\n",
       "    }\n",
       "</style>\n",
       "<table border=\"1\" class=\"dataframe\">\n",
       "  <thead>\n",
       "    <tr style=\"text-align: right;\">\n",
       "      <th></th>\n",
       "      <th>memid</th>\n",
       "      <th>surname</th>\n",
       "      <th>firstname</th>\n",
       "      <th>address</th>\n",
       "      <th>zipcode</th>\n",
       "      <th>telephone</th>\n",
       "      <th>recommendedby</th>\n",
       "      <th>joindate</th>\n",
       "    </tr>\n",
       "  </thead>\n",
       "  <tbody>\n",
       "    <tr>\n",
       "      <th>0</th>\n",
       "      <td>0</td>\n",
       "      <td>GUEST</td>\n",
       "      <td>GUEST</td>\n",
       "      <td>GUEST</td>\n",
       "      <td>0</td>\n",
       "      <td>(000) 000-0000</td>\n",
       "      <td></td>\n",
       "      <td>2012-07-01 00:00:00</td>\n",
       "    </tr>\n",
       "    <tr>\n",
       "      <th>1</th>\n",
       "      <td>1</td>\n",
       "      <td>Smith</td>\n",
       "      <td>Darren</td>\n",
       "      <td>8 Bloomsbury Close, Boston</td>\n",
       "      <td>4321</td>\n",
       "      <td>555-555-5555</td>\n",
       "      <td></td>\n",
       "      <td>2012-07-02 12:02:05</td>\n",
       "    </tr>\n",
       "    <tr>\n",
       "      <th>2</th>\n",
       "      <td>2</td>\n",
       "      <td>Smith</td>\n",
       "      <td>Tracy</td>\n",
       "      <td>8 Bloomsbury Close, New York</td>\n",
       "      <td>4321</td>\n",
       "      <td>555-555-5555</td>\n",
       "      <td></td>\n",
       "      <td>2012-07-02 12:08:23</td>\n",
       "    </tr>\n",
       "    <tr>\n",
       "      <th>3</th>\n",
       "      <td>3</td>\n",
       "      <td>Rownam</td>\n",
       "      <td>Tim</td>\n",
       "      <td>23 Highway Way, Boston</td>\n",
       "      <td>23423</td>\n",
       "      <td>(844) 693-0723</td>\n",
       "      <td></td>\n",
       "      <td>2012-07-03 09:32:15</td>\n",
       "    </tr>\n",
       "    <tr>\n",
       "      <th>4</th>\n",
       "      <td>4</td>\n",
       "      <td>Joplette</td>\n",
       "      <td>Janice</td>\n",
       "      <td>20 Crossing Road, New York</td>\n",
       "      <td>234</td>\n",
       "      <td>(833) 942-4710</td>\n",
       "      <td>1</td>\n",
       "      <td>2012-07-03 10:25:05</td>\n",
       "    </tr>\n",
       "  </tbody>\n",
       "</table>\n",
       "</div>"
      ],
      "text/plain": [
       "   memid   surname firstname                       address  zipcode  \\\n",
       "0      0     GUEST     GUEST                         GUEST        0   \n",
       "1      1     Smith    Darren    8 Bloomsbury Close, Boston     4321   \n",
       "2      2     Smith     Tracy  8 Bloomsbury Close, New York     4321   \n",
       "3      3    Rownam       Tim        23 Highway Way, Boston    23423   \n",
       "4      4  Joplette    Janice    20 Crossing Road, New York      234   \n",
       "\n",
       "        telephone recommendedby             joindate  \n",
       "0  (000) 000-0000                2012-07-01 00:00:00  \n",
       "1    555-555-5555                2012-07-02 12:02:05  \n",
       "2    555-555-5555                2012-07-02 12:08:23  \n",
       "3  (844) 693-0723                2012-07-03 09:32:15  \n",
       "4  (833) 942-4710             1  2012-07-03 10:25:05  "
      ]
     },
     "execution_count": 9,
     "metadata": {},
     "output_type": "execute_result"
    }
   ],
   "source": [
    "df.head()"
   ]
  },
  {
   "cell_type": "markdown",
   "id": "da3178c2",
   "metadata": {},
   "source": [
    "## Q11: Produce a list of facilities with a total revenue less than 1000.  The output of facility name and total revenue, sorted by revenue."
   ]
  },
  {
   "cell_type": "code",
   "execution_count": 10,
   "id": "0f05e106",
   "metadata": {},
   "outputs": [
    {
     "name": "stdout",
     "output_type": "stream",
     "text": [
      "            name  revenue\n",
      "0   Table Tennis      180\n",
      "1  Snooker Table      240\n",
      "2     Pool Table      270\n"
     ]
    }
   ],
   "source": [
    "query = '''SELECT name, revenue FROM (SELECT name, SUM(CASE WHEN memid = 0 THEN guestcost * slots ELSE membercost * slots END) AS revenue\n",
    "FROM bookings INNER JOIN facilities ON bookings.facid = facilities.facid GROUP BY name) AS inner_table WHERE revenue < 1000 ORDER BY revenue'''\n",
    "df = pd.read_sql_query(query, connection)\n",
    "print(df)"
   ]
  },
  {
   "cell_type": "markdown",
   "id": "a5d79624",
   "metadata": {},
   "source": [
    "## Q12: Produce a report of members and who recommended them in alphabetic surname,firstname order"
   ]
  },
  {
   "cell_type": "code",
   "execution_count": 11,
   "id": "257b69ef",
   "metadata": {},
   "outputs": [],
   "source": [
    "query = '''SELECT m1.firstname || ' ' || m1.surname AS member, recommended.firstname || ' ' || recommended.surname AS 'recommended by' FROM Members AS m1 INNER JOIN Members recommended On recommended.recommendedby = m1.memid WHERE m1.surname <> \"GUEST\" AND m1.recommendedby IS NOT NULL ORDER BY m1.surname, m1.firstname'''"
   ]
  },
  {
   "cell_type": "code",
   "execution_count": 12,
   "id": "ef557428",
   "metadata": {},
   "outputs": [
    {
     "name": "stdout",
     "output_type": "stream",
     "text": [
      "               member           recommended by\n",
      "0      Florence Bader         Ramnaresh Sarwin\n",
      "1       Timothy Baker              Joan Coplin\n",
      "2      Gerald Butters          Matthew Genting\n",
      "3      Jemima Farrell            Timothy Baker\n",
      "4      Jemima Farrell             David Pinker\n",
      "5     Matthew Genting         Henrietta Rumney\n",
      "6         David Jones            Douglas Jones\n",
      "7     Janice Joplette               Nancy Dare\n",
      "8     Janice Joplette              David Jones\n",
      "9   Millicent Purview                John Hunt\n",
      "10         Tim Rownam               Tim Boothe\n",
      "11       Darren Smith          Janice Joplette\n",
      "12       Darren Smith           Gerald Butters\n",
      "13       Darren Smith             Charles Owen\n",
      "14       Darren Smith               Jack Smith\n",
      "15       Darren Smith           Anna Mackenzie\n",
      "16        Tracy Smith  Henry Worthington-Smyth\n",
      "17        Tracy Smith        Millicent Purview\n",
      "18        Tracy Smith            Erica Crumpet\n",
      "19    Ponder Stibbons               Anne Baker\n",
      "20    Ponder Stibbons           Florence Bader\n",
      "21       Burton Tracy          Ponder Stibbons\n"
     ]
    }
   ],
   "source": [
    "df = pd.read_sql_query(query, connection)\n",
    "print(df)"
   ]
  },
  {
   "cell_type": "markdown",
   "id": "162fbf13",
   "metadata": {},
   "source": [
    "## Q13: Find the facilities with their usage by member, but not guests "
   ]
  },
  {
   "cell_type": "code",
   "execution_count": 13,
   "id": "abdeac13",
   "metadata": {},
   "outputs": [
    {
     "name": "stdout",
     "output_type": "stream",
     "text": [
      "                name             member\n",
      "0    Badminton Court       Darren Smith\n",
      "1    Badminton Court     Gerald Butters\n",
      "2    Badminton Court        Tracy Smith\n",
      "3    Badminton Court         Nancy Dare\n",
      "4    Badminton Court         Tim Rownam\n",
      "..               ...                ...\n",
      "197   Tennis Court 2         Jack Smith\n",
      "198   Tennis Court 2  Millicent Purview\n",
      "199   Tennis Court 2   Henrietta Rumney\n",
      "200   Tennis Court 2          John Hunt\n",
      "201   Tennis Court 2      David Farrell\n",
      "\n",
      "[202 rows x 2 columns]\n"
     ]
    }
   ],
   "source": [
    "query = '''SELECT DISTINCT f.name, m.firstname || ' ' || m.surname AS member FROM Facilities AS f \n",
    "INNER JOIN Bookings b ON b.memid = m.memid\n",
    "INNER JOIN Members m ON f.facid = b.facid\n",
    "WHERE b.memid <> 0 ORDER BY f.name'''\n",
    "df = pd.read_sql_query(query, connection)\n",
    "print(df)"
   ]
  },
  {
   "cell_type": "code",
   "execution_count": null,
   "id": "c224916b",
   "metadata": {},
   "outputs": [],
   "source": []
  }
 ],
 "metadata": {
  "kernelspec": {
   "display_name": "Python 3 (ipykernel)",
   "language": "python",
   "name": "python3"
  },
  "language_info": {
   "codemirror_mode": {
    "name": "ipython",
    "version": 3
   },
   "file_extension": ".py",
   "mimetype": "text/x-python",
   "name": "python",
   "nbconvert_exporter": "python",
   "pygments_lexer": "ipython3",
   "version": "3.10.9"
  }
 },
 "nbformat": 4,
 "nbformat_minor": 5
}
