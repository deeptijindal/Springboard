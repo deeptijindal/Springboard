{
 "cells": [
  {
   "cell_type": "markdown",
   "metadata": {},
   "source": [
    "# 3 Exploratory Data Analysis<a id='3_Exploratory_Data_Analysis'></a>"
   ]
  },
  {
   "cell_type": "markdown",
   "metadata": {},
   "source": [
    "# 3.1 Imports<a id='3.3_Imports'></a>"
   ]
  },
  {
   "cell_type": "code",
   "execution_count": 2,
   "metadata": {
    "execution": {
     "iopub.execute_input": "2020-10-07T07:04:19.124917Z",
     "iopub.status.busy": "2020-10-07T07:04:19.124711Z",
     "iopub.status.idle": "2020-10-07T07:04:19.128523Z",
     "shell.execute_reply": "2020-10-07T07:04:19.128112Z",
     "shell.execute_reply.started": "2020-10-07T07:04:19.124888Z"
    }
   },
   "outputs": [],
   "source": [
    "import pandas as pd\n",
    "import numpy as np\n",
    "import os\n",
    "import matplotlib.pyplot as plt\n",
    "import seaborn as sns\n",
    "\n",
    "import statsmodels.api as sm # provide classes and functions for the estimation of many different statistical models,\n",
    "#as well as for conducting statistical tests, and statistical data exploration \n",
    "from sklearn import linear_model, preprocessing #  different functions for performing machine learning with linear models. .\n",
    "\n",
    "from sklearn.decomposition import PCA\n",
    "from sklearn.preprocessing import scale\n",
    "\n",
    "from statsmodels.graphics.api import abline_plot # Plot a line given an intercept and slope.\n",
    "from sklearn.metrics import mean_squared_error, r2_score # The r2_score function computes the coefficient of determination, usually denoted as R²\n",
    "#The mean_squared_error function computes mean square error, a risk metric corresponding to the expected value of the squared\n",
    "from sklearn.model_selection import train_test_split #  Split arrays or matrices into random train and test subsets.\n"
   ]
  },
  {
   "cell_type": "markdown",
   "metadata": {},
   "source": [
    "## 3.2 Load The Data<a id='3.4_Load_The_Data'></a>"
   ]
  },
  {
   "cell_type": "code",
   "execution_count": 3,
   "metadata": {},
   "outputs": [],
   "source": [
    "airbnb_data = pd.read_csv('airbnb_data_clean.csv')"
   ]
  },
  {
   "cell_type": "code",
   "execution_count": 4,
   "metadata": {},
   "outputs": [
    {
     "name": "stdout",
     "output_type": "stream",
     "text": [
      "<class 'pandas.core.frame.DataFrame'>\n",
      "RangeIndex: 28434 entries, 0 to 28433\n",
      "Data columns (total 15 columns):\n",
      " #   Column                     Non-Null Count  Dtype  \n",
      "---  ------                     --------------  -----  \n",
      " 0   Unnamed: 0                 28434 non-null  int64  \n",
      " 1   latitude                   28434 non-null  float64\n",
      " 2   longitude                  28434 non-null  float64\n",
      " 3   property_type              28434 non-null  object \n",
      " 4   room_type                  28434 non-null  object \n",
      " 5   beds                       28009 non-null  float64\n",
      " 6   accommodates               28434 non-null  int64  \n",
      " 7   price                      28160 non-null  float64\n",
      " 8   number_of_reviews          28434 non-null  int64  \n",
      " 9   review_scores_rating       28434 non-null  float64\n",
      " 10  host_is_superhost          28434 non-null  bool   \n",
      " 11  host_verifications         28434 non-null  object \n",
      " 12  host_picture_url           28431 non-null  object \n",
      " 13  host_listings_count        28431 non-null  float64\n",
      " 14  host_total_listings_count  28431 non-null  float64\n",
      "dtypes: bool(1), float64(7), int64(3), object(4)\n",
      "memory usage: 3.1+ MB\n"
     ]
    }
   ],
   "source": [
    "airbnb_data.info()"
   ]
  },
  {
   "cell_type": "code",
   "execution_count": 5,
   "metadata": {},
   "outputs": [
    {
     "data": {
      "text/html": [
       "<div>\n",
       "<style scoped>\n",
       "    .dataframe tbody tr th:only-of-type {\n",
       "        vertical-align: middle;\n",
       "    }\n",
       "\n",
       "    .dataframe tbody tr th {\n",
       "        vertical-align: top;\n",
       "    }\n",
       "\n",
       "    .dataframe thead th {\n",
       "        text-align: right;\n",
       "    }\n",
       "</style>\n",
       "<table border=\"1\" class=\"dataframe\">\n",
       "  <thead>\n",
       "    <tr style=\"text-align: right;\">\n",
       "      <th></th>\n",
       "      <th>Unnamed: 0</th>\n",
       "      <th>latitude</th>\n",
       "      <th>longitude</th>\n",
       "      <th>property_type</th>\n",
       "      <th>room_type</th>\n",
       "      <th>beds</th>\n",
       "      <th>accommodates</th>\n",
       "      <th>price</th>\n",
       "      <th>number_of_reviews</th>\n",
       "      <th>review_scores_rating</th>\n",
       "      <th>host_is_superhost</th>\n",
       "      <th>host_verifications</th>\n",
       "      <th>host_picture_url</th>\n",
       "      <th>host_listings_count</th>\n",
       "      <th>host_total_listings_count</th>\n",
       "    </tr>\n",
       "  </thead>\n",
       "  <tbody>\n",
       "    <tr>\n",
       "      <th>0</th>\n",
       "      <td>0</td>\n",
       "      <td>40.68457</td>\n",
       "      <td>-73.91181</td>\n",
       "      <td>Private room in rental unit</td>\n",
       "      <td>Private room</td>\n",
       "      <td>1.0</td>\n",
       "      <td>1</td>\n",
       "      <td>65.0</td>\n",
       "      <td>5</td>\n",
       "      <td>4.80</td>\n",
       "      <td>False</td>\n",
       "      <td>['email', 'phone']</td>\n",
       "      <td>https://a0.muscache.com/im/pictures/user/5c087...</td>\n",
       "      <td>1.0</td>\n",
       "      <td>2.0</td>\n",
       "    </tr>\n",
       "    <tr>\n",
       "      <th>1</th>\n",
       "      <td>3</td>\n",
       "      <td>40.68180</td>\n",
       "      <td>-73.93121</td>\n",
       "      <td>Entire rental unit</td>\n",
       "      <td>Entire home/apt</td>\n",
       "      <td>1.0</td>\n",
       "      <td>2</td>\n",
       "      <td>70.0</td>\n",
       "      <td>2</td>\n",
       "      <td>5.00</td>\n",
       "      <td>False</td>\n",
       "      <td>['email', 'phone', 'work_email']</td>\n",
       "      <td>https://a0.muscache.com/im/users/4298654/profi...</td>\n",
       "      <td>1.0</td>\n",
       "      <td>2.0</td>\n",
       "    </tr>\n",
       "    <tr>\n",
       "      <th>2</th>\n",
       "      <td>4</td>\n",
       "      <td>40.68209</td>\n",
       "      <td>-73.94279</td>\n",
       "      <td>Entire rental unit</td>\n",
       "      <td>Entire home/apt</td>\n",
       "      <td>2.0</td>\n",
       "      <td>4</td>\n",
       "      <td>170.0</td>\n",
       "      <td>88</td>\n",
       "      <td>4.98</td>\n",
       "      <td>True</td>\n",
       "      <td>['email', 'phone']</td>\n",
       "      <td>https://a0.muscache.com/im/pictures/user/41ec9...</td>\n",
       "      <td>1.0</td>\n",
       "      <td>1.0</td>\n",
       "    </tr>\n",
       "    <tr>\n",
       "      <th>3</th>\n",
       "      <td>5</td>\n",
       "      <td>40.72625</td>\n",
       "      <td>-73.98691</td>\n",
       "      <td>Private room in condo</td>\n",
       "      <td>Private room</td>\n",
       "      <td>1.0</td>\n",
       "      <td>1</td>\n",
       "      <td>140.0</td>\n",
       "      <td>61</td>\n",
       "      <td>4.43</td>\n",
       "      <td>False</td>\n",
       "      <td>['email', 'phone']</td>\n",
       "      <td>https://a0.muscache.com/im/pictures/user/a7674...</td>\n",
       "      <td>2.0</td>\n",
       "      <td>9.0</td>\n",
       "    </tr>\n",
       "    <tr>\n",
       "      <th>4</th>\n",
       "      <td>6</td>\n",
       "      <td>40.72813</td>\n",
       "      <td>-73.98801</td>\n",
       "      <td>Private room in condo</td>\n",
       "      <td>Private room</td>\n",
       "      <td>1.0</td>\n",
       "      <td>1</td>\n",
       "      <td>125.0</td>\n",
       "      <td>41</td>\n",
       "      <td>4.29</td>\n",
       "      <td>False</td>\n",
       "      <td>['email', 'phone']</td>\n",
       "      <td>https://a0.muscache.com/im/pictures/user/a7674...</td>\n",
       "      <td>2.0</td>\n",
       "      <td>9.0</td>\n",
       "    </tr>\n",
       "  </tbody>\n",
       "</table>\n",
       "</div>"
      ],
      "text/plain": [
       "   Unnamed: 0  latitude  longitude                property_type  \\\n",
       "0           0  40.68457  -73.91181  Private room in rental unit   \n",
       "1           3  40.68180  -73.93121           Entire rental unit   \n",
       "2           4  40.68209  -73.94279           Entire rental unit   \n",
       "3           5  40.72625  -73.98691        Private room in condo   \n",
       "4           6  40.72813  -73.98801        Private room in condo   \n",
       "\n",
       "         room_type  beds  accommodates  price  number_of_reviews  \\\n",
       "0     Private room   1.0             1   65.0                  5   \n",
       "1  Entire home/apt   1.0             2   70.0                  2   \n",
       "2  Entire home/apt   2.0             4  170.0                 88   \n",
       "3     Private room   1.0             1  140.0                 61   \n",
       "4     Private room   1.0             1  125.0                 41   \n",
       "\n",
       "   review_scores_rating  host_is_superhost                host_verifications  \\\n",
       "0                  4.80              False                ['email', 'phone']   \n",
       "1                  5.00              False  ['email', 'phone', 'work_email']   \n",
       "2                  4.98               True                ['email', 'phone']   \n",
       "3                  4.43              False                ['email', 'phone']   \n",
       "4                  4.29              False                ['email', 'phone']   \n",
       "\n",
       "                                    host_picture_url  host_listings_count  \\\n",
       "0  https://a0.muscache.com/im/pictures/user/5c087...                  1.0   \n",
       "1  https://a0.muscache.com/im/users/4298654/profi...                  1.0   \n",
       "2  https://a0.muscache.com/im/pictures/user/41ec9...                  1.0   \n",
       "3  https://a0.muscache.com/im/pictures/user/a7674...                  2.0   \n",
       "4  https://a0.muscache.com/im/pictures/user/a7674...                  2.0   \n",
       "\n",
       "   host_total_listings_count  \n",
       "0                        2.0  \n",
       "1                        2.0  \n",
       "2                        1.0  \n",
       "3                        9.0  \n",
       "4                        9.0  "
      ]
     },
     "execution_count": 5,
     "metadata": {},
     "output_type": "execute_result"
    }
   ],
   "source": [
    "airbnb_data.head()"
   ]
  },
  {
   "cell_type": "code",
   "execution_count": 6,
   "metadata": {},
   "outputs": [
    {
     "data": {
      "text/plain": [
       "(28434, 15)"
      ]
     },
     "execution_count": 6,
     "metadata": {},
     "output_type": "execute_result"
    }
   ],
   "source": [
    "airbnb_data.shape"
   ]
  },
  {
   "cell_type": "code",
   "execution_count": 7,
   "metadata": {},
   "outputs": [],
   "source": [
    "#drop some of the superfLuous columns\n",
    "airbnb_data.drop(['host_verifications'], axis=1, inplace=True)\n",
    "airbnb_data.drop(['host_picture_url'], axis=1, inplace=True)"
   ]
  },
  {
   "cell_type": "code",
   "execution_count": 8,
   "metadata": {
    "scrolled": true
   },
   "outputs": [],
   "source": [
    "#remove Nan price and beds\n",
    "airbnb_data= airbnb_data[airbnb_data['beds'].notnull()]\n",
    "airbnb_data= airbnb_data[airbnb_data['price'].notnull()]"
   ]
  },
  {
   "cell_type": "code",
   "execution_count": 9,
   "metadata": {},
   "outputs": [
    {
     "name": "stdout",
     "output_type": "stream",
     "text": [
      "<class 'pandas.core.frame.DataFrame'>\n",
      "Int64Index: 27743 entries, 0 to 28433\n",
      "Data columns (total 13 columns):\n",
      " #   Column                     Non-Null Count  Dtype  \n",
      "---  ------                     --------------  -----  \n",
      " 0   Unnamed: 0                 27743 non-null  int64  \n",
      " 1   latitude                   27743 non-null  float64\n",
      " 2   longitude                  27743 non-null  float64\n",
      " 3   property_type              27743 non-null  object \n",
      " 4   room_type                  27743 non-null  object \n",
      " 5   beds                       27743 non-null  float64\n",
      " 6   accommodates               27743 non-null  int64  \n",
      " 7   price                      27743 non-null  float64\n",
      " 8   number_of_reviews          27743 non-null  int64  \n",
      " 9   review_scores_rating       27743 non-null  float64\n",
      " 10  host_is_superhost          27743 non-null  bool   \n",
      " 11  host_listings_count        27740 non-null  float64\n",
      " 12  host_total_listings_count  27740 non-null  float64\n",
      "dtypes: bool(1), float64(7), int64(3), object(2)\n",
      "memory usage: 2.8+ MB\n"
     ]
    }
   ],
   "source": [
    "airbnb_data.info()"
   ]
  },
  {
   "cell_type": "markdown",
   "metadata": {},
   "source": [
    "## 3.3 Explore The Data<a id='3.5_Explore_The_Data'></a>"
   ]
  },
  {
   "cell_type": "code",
   "execution_count": 27,
   "metadata": {},
   "outputs": [
    {
     "data": {
      "text/plain": [
       "<Axes: xlabel='accommodates', ylabel='price'>"
      ]
     },
     "execution_count": 27,
     "metadata": {},
     "output_type": "execute_result"
    },
    {
     "data": {
      "image/png": "[encoded data removed]",
      "text/plain": [
       "<Figure size 640x480 with 1 Axes>"
      ]
     },
     "metadata": {},
     "output_type": "display_data"
    }
   ],
   "source": [
    "sns.regplot(x='accommodates', y ='price', data=airbnb_data)"
   ]
  },
  {
   "cell_type": "code",
   "execution_count": 28,
   "metadata": {},
   "outputs": [
    {
     "data": {
      "text/plain": [
       "0.24834905598389323"
      ]
     },
     "execution_count": 28,
     "metadata": {},
     "output_type": "execute_result"
    }
   ],
   "source": [
    "X = airbnb_data[['accommodates']]\n",
    "Y = airbnb_data['price']\n",
    "lm=linear_model.LinearRegression()\n",
    "lm.fit(X,Y)\n",
    "lm.score(X,Y)"
   ]
  },
  {
   "cell_type": "markdown",
   "metadata": {},
   "source": [
    "The above R-Squared coefficient is basically a measure of how successfully our model predicts the variations in the data away from the mean: which is currently at 25%"
   ]
  },
  {
   "cell_type": "code",
   "execution_count": 13,
   "metadata": {},
   "outputs": [
    {
     "name": "stderr",
     "output_type": "stream",
     "text": [
      "C:\\Users\\deept\\AppData\\Local\\Temp\\ipykernel_5708\\2277941762.py:2: FutureWarning: The default value of numeric_only in DataFrame.corr is deprecated. In a future version, it will default to False. Select only valid columns or specify the value of numeric_only to silence this warning.\n",
      "  airbnb_data.corr()\n"
     ]
    },
    {
     "data": {
      "text/html": [
       "<div>\n",
       "<style scoped>\n",
       "    .dataframe tbody tr th:only-of-type {\n",
       "        vertical-align: middle;\n",
       "    }\n",
       "\n",
       "    .dataframe tbody tr th {\n",
       "        vertical-align: top;\n",
       "    }\n",
       "\n",
       "    .dataframe thead th {\n",
       "        text-align: right;\n",
       "    }\n",
       "</style>\n",
       "<table border=\"1\" class=\"dataframe\">\n",
       "  <thead>\n",
       "    <tr style=\"text-align: right;\">\n",
       "      <th></th>\n",
       "      <th>Unnamed: 0</th>\n",
       "      <th>latitude</th>\n",
       "      <th>longitude</th>\n",
       "      <th>beds</th>\n",
       "      <th>accommodates</th>\n",
       "      <th>price</th>\n",
       "      <th>number_of_reviews</th>\n",
       "      <th>review_scores_rating</th>\n",
       "      <th>host_is_superhost</th>\n",
       "      <th>host_listings_count</th>\n",
       "      <th>host_total_listings_count</th>\n",
       "    </tr>\n",
       "  </thead>\n",
       "  <tbody>\n",
       "    <tr>\n",
       "      <th>Unnamed: 0</th>\n",
       "      <td>1.000000</td>\n",
       "      <td>0.006107</td>\n",
       "      <td>-0.012849</td>\n",
       "      <td>-0.007711</td>\n",
       "      <td>-0.000336</td>\n",
       "      <td>0.003628</td>\n",
       "      <td>-0.035463</td>\n",
       "      <td>-0.024440</td>\n",
       "      <td>0.007550</td>\n",
       "      <td>0.178031</td>\n",
       "      <td>0.185129</td>\n",
       "    </tr>\n",
       "    <tr>\n",
       "      <th>latitude</th>\n",
       "      <td>0.006107</td>\n",
       "      <td>1.000000</td>\n",
       "      <td>0.063780</td>\n",
       "      <td>-0.077387</td>\n",
       "      <td>-0.053284</td>\n",
       "      <td>0.022986</td>\n",
       "      <td>-0.042747</td>\n",
       "      <td>-0.046900</td>\n",
       "      <td>-0.075649</td>\n",
       "      <td>0.040959</td>\n",
       "      <td>0.044249</td>\n",
       "    </tr>\n",
       "    <tr>\n",
       "      <th>longitude</th>\n",
       "      <td>-0.012849</td>\n",
       "      <td>0.063780</td>\n",
       "      <td>1.000000</td>\n",
       "      <td>0.059668</td>\n",
       "      <td>0.026932</td>\n",
       "      <td>-0.220702</td>\n",
       "      <td>0.033497</td>\n",
       "      <td>0.009824</td>\n",
       "      <td>0.108035</td>\n",
       "      <td>-0.048376</td>\n",
       "      <td>-0.056287</td>\n",
       "    </tr>\n",
       "    <tr>\n",
       "      <th>beds</th>\n",
       "      <td>-0.007711</td>\n",
       "      <td>-0.077387</td>\n",
       "      <td>0.059668</td>\n",
       "      <td>1.000000</td>\n",
       "      <td>0.765998</td>\n",
       "      <td>0.422560</td>\n",
       "      <td>0.075307</td>\n",
       "      <td>0.027491</td>\n",
       "      <td>0.091260</td>\n",
       "      <td>-0.028848</td>\n",
       "      <td>-0.029296</td>\n",
       "    </tr>\n",
       "    <tr>\n",
       "      <th>accommodates</th>\n",
       "      <td>-0.000336</td>\n",
       "      <td>-0.053284</td>\n",
       "      <td>0.026932</td>\n",
       "      <td>0.765998</td>\n",
       "      <td>1.000000</td>\n",
       "      <td>0.498346</td>\n",
       "      <td>0.046961</td>\n",
       "      <td>0.019324</td>\n",
       "      <td>0.047994</td>\n",
       "      <td>-0.011768</td>\n",
       "      <td>-0.010639</td>\n",
       "    </tr>\n",
       "    <tr>\n",
       "      <th>price</th>\n",
       "      <td>0.003628</td>\n",
       "      <td>0.022986</td>\n",
       "      <td>-0.220702</td>\n",
       "      <td>0.422560</td>\n",
       "      <td>0.498346</td>\n",
       "      <td>1.000000</td>\n",
       "      <td>0.023146</td>\n",
       "      <td>0.060653</td>\n",
       "      <td>0.060462</td>\n",
       "      <td>0.065496</td>\n",
       "      <td>0.082219</td>\n",
       "    </tr>\n",
       "    <tr>\n",
       "      <th>number_of_reviews</th>\n",
       "      <td>-0.035463</td>\n",
       "      <td>-0.042747</td>\n",
       "      <td>0.033497</td>\n",
       "      <td>0.075307</td>\n",
       "      <td>0.046961</td>\n",
       "      <td>0.023146</td>\n",
       "      <td>1.000000</td>\n",
       "      <td>0.097144</td>\n",
       "      <td>0.259342</td>\n",
       "      <td>-0.055596</td>\n",
       "      <td>-0.054306</td>\n",
       "    </tr>\n",
       "    <tr>\n",
       "      <th>review_scores_rating</th>\n",
       "      <td>-0.024440</td>\n",
       "      <td>-0.046900</td>\n",
       "      <td>0.009824</td>\n",
       "      <td>0.027491</td>\n",
       "      <td>0.019324</td>\n",
       "      <td>0.060653</td>\n",
       "      <td>0.097144</td>\n",
       "      <td>1.000000</td>\n",
       "      <td>0.185891</td>\n",
       "      <td>-0.038360</td>\n",
       "      <td>-0.040773</td>\n",
       "    </tr>\n",
       "    <tr>\n",
       "      <th>host_is_superhost</th>\n",
       "      <td>0.007550</td>\n",
       "      <td>-0.075649</td>\n",
       "      <td>0.108035</td>\n",
       "      <td>0.091260</td>\n",
       "      <td>0.047994</td>\n",
       "      <td>0.060462</td>\n",
       "      <td>0.259342</td>\n",
       "      <td>0.185891</td>\n",
       "      <td>1.000000</td>\n",
       "      <td>-0.055569</td>\n",
       "      <td>-0.057320</td>\n",
       "    </tr>\n",
       "    <tr>\n",
       "      <th>host_listings_count</th>\n",
       "      <td>0.178031</td>\n",
       "      <td>0.040959</td>\n",
       "      <td>-0.048376</td>\n",
       "      <td>-0.028848</td>\n",
       "      <td>-0.011768</td>\n",
       "      <td>0.065496</td>\n",
       "      <td>-0.055596</td>\n",
       "      <td>-0.038360</td>\n",
       "      <td>-0.055569</td>\n",
       "      <td>1.000000</td>\n",
       "      <td>0.951035</td>\n",
       "    </tr>\n",
       "    <tr>\n",
       "      <th>host_total_listings_count</th>\n",
       "      <td>0.185129</td>\n",
       "      <td>0.044249</td>\n",
       "      <td>-0.056287</td>\n",
       "      <td>-0.029296</td>\n",
       "      <td>-0.010639</td>\n",
       "      <td>0.082219</td>\n",
       "      <td>-0.054306</td>\n",
       "      <td>-0.040773</td>\n",
       "      <td>-0.057320</td>\n",
       "      <td>0.951035</td>\n",
       "      <td>1.000000</td>\n",
       "    </tr>\n",
       "  </tbody>\n",
       "</table>\n",
       "</div>"
      ],
      "text/plain": [
       "                           Unnamed: 0  latitude  longitude      beds  \\\n",
       "Unnamed: 0                   1.000000  0.006107  -0.012849 -0.007711   \n",
       "latitude                     0.006107  1.000000   0.063780 -0.077387   \n",
       "longitude                   -0.012849  0.063780   1.000000  0.059668   \n",
       "beds                        -0.007711 -0.077387   0.059668  1.000000   \n",
       "accommodates                -0.000336 -0.053284   0.026932  0.765998   \n",
       "price                        0.003628  0.022986  -0.220702  0.422560   \n",
       "number_of_reviews           -0.035463 -0.042747   0.033497  0.075307   \n",
       "review_scores_rating        -0.024440 -0.046900   0.009824  0.027491   \n",
       "host_is_superhost            0.007550 -0.075649   0.108035  0.091260   \n",
       "host_listings_count          0.178031  0.040959  -0.048376 -0.028848   \n",
       "host_total_listings_count    0.185129  0.044249  -0.056287 -0.029296   \n",
       "\n",
       "                           accommodates     price  number_of_reviews  \\\n",
       "Unnamed: 0                    -0.000336  0.003628          -0.035463   \n",
       "latitude                      -0.053284  0.022986          -0.042747   \n",
       "longitude                      0.026932 -0.220702           0.033497   \n",
       "beds                           0.765998  0.422560           0.075307   \n",
       "accommodates                   1.000000  0.498346           0.046961   \n",
       "price                          0.498346  1.000000           0.023146   \n",
       "number_of_reviews              0.046961  0.023146           1.000000   \n",
       "review_scores_rating           0.019324  0.060653           0.097144   \n",
       "host_is_superhost              0.047994  0.060462           0.259342   \n",
       "host_listings_count           -0.011768  0.065496          -0.055596   \n",
       "host_total_listings_count     -0.010639  0.082219          -0.054306   \n",
       "\n",
       "                           review_scores_rating  host_is_superhost  \\\n",
       "Unnamed: 0                            -0.024440           0.007550   \n",
       "latitude                              -0.046900          -0.075649   \n",
       "longitude                              0.009824           0.108035   \n",
       "beds                                   0.027491           0.091260   \n",
       "accommodates                           0.019324           0.047994   \n",
       "price                                  0.060653           0.060462   \n",
       "number_of_reviews                      0.097144           0.259342   \n",
       "review_scores_rating                   1.000000           0.185891   \n",
       "host_is_superhost                      0.185891           1.000000   \n",
       "host_listings_count                   -0.038360          -0.055569   \n",
       "host_total_listings_count             -0.040773          -0.057320   \n",
       "\n",
       "                           host_listings_count  host_total_listings_count  \n",
       "Unnamed: 0                            0.178031                   0.185129  \n",
       "latitude                              0.040959                   0.044249  \n",
       "longitude                            -0.048376                  -0.056287  \n",
       "beds                                 -0.028848                  -0.029296  \n",
       "accommodates                         -0.011768                  -0.010639  \n",
       "price                                 0.065496                   0.082219  \n",
       "number_of_reviews                    -0.055596                  -0.054306  \n",
       "review_scores_rating                 -0.038360                  -0.040773  \n",
       "host_is_superhost                    -0.055569                  -0.057320  \n",
       "host_listings_count                   1.000000                   0.951035  \n",
       "host_total_listings_count             0.951035                   1.000000  "
      ]
     },
     "execution_count": 13,
     "metadata": {},
     "output_type": "execute_result"
    }
   ],
   "source": [
    "#gives multicorrelational\n",
    "airbnb_data.corr()"
   ]
  },
  {
   "cell_type": "code",
   "execution_count": 21,
   "metadata": {},
   "outputs": [
    {
     "name": "stderr",
     "output_type": "stream",
     "text": [
      "C:\\Users\\deept\\AppData\\Local\\Temp\\ipykernel_5708\\3254501915.py:2: FutureWarning: The default value of numeric_only in DataFrame.corr is deprecated. In a future version, it will default to False. Select only valid columns or specify the value of numeric_only to silence this warning.\n",
      "  airbnb_data.corr()['price'].sort_values()\n"
     ]
    },
    {
     "data": {
      "text/plain": [
       "longitude                   -0.220702\n",
       "Unnamed: 0                   0.003628\n",
       "latitude                     0.022986\n",
       "number_of_reviews            0.023146\n",
       "host_is_superhost            0.060462\n",
       "review_scores_rating         0.060653\n",
       "host_listings_count          0.065496\n",
       "host_total_listings_count    0.082219\n",
       "beds                         0.422560\n",
       "accommodates                 0.498346\n",
       "price                        1.000000\n",
       "Name: price, dtype: float64"
      ]
     },
     "execution_count": 21,
     "metadata": {},
     "output_type": "execute_result"
    }
   ],
   "source": [
    "#use the Pandas method corr() to find the feature other than price that is most correlated with price\n",
    "airbnb_data.corr()['price'].sort_values()"
   ]
  },
  {
   "cell_type": "markdown",
   "metadata": {},
   "source": [
    "As we can see from the corr function that the pricing is related the sqft_living, number of bathrooms, view, and number of bedroom"
   ]
  },
  {
   "cell_type": "code",
   "execution_count": 31,
   "metadata": {},
   "outputs": [
    {
     "name": "stderr",
     "output_type": "stream",
     "text": [
      "C:\\Users\\deept\\AppData\\Local\\Temp\\ipykernel_5708\\3667004845.py:1: FutureWarning: The default value of numeric_only in DataFrame.corr is deprecated. In a future version, it will default to False. Select only valid columns or specify the value of numeric_only to silence this warning.\n",
      "  sns.heatmap(airbnb_data.corr());\n"
     ]
    },
    {
     "data": {
      "image/png": "[encoded data removed]",
      "text/plain": [
       "<Figure size 640x480 with 2 Axes>"
      ]
     },
     "metadata": {},
     "output_type": "display_data"
    }
   ],
   "source": [
    "sns.heatmap(airbnb_data.corr());"
   ]
  },
  {
   "cell_type": "code",
   "execution_count": 22,
   "metadata": {},
   "outputs": [
    {
     "data": {
      "text/html": [
       "<div>\n",
       "<style scoped>\n",
       "    .dataframe tbody tr th:only-of-type {\n",
       "        vertical-align: middle;\n",
       "    }\n",
       "\n",
       "    .dataframe tbody tr th {\n",
       "        vertical-align: top;\n",
       "    }\n",
       "\n",
       "    .dataframe thead th {\n",
       "        text-align: right;\n",
       "    }\n",
       "</style>\n",
       "<table border=\"1\" class=\"dataframe\">\n",
       "  <thead>\n",
       "    <tr style=\"text-align: right;\">\n",
       "      <th></th>\n",
       "      <th>Unnamed: 0</th>\n",
       "      <th>latitude</th>\n",
       "      <th>longitude</th>\n",
       "      <th>beds</th>\n",
       "      <th>accommodates</th>\n",
       "      <th>price</th>\n",
       "      <th>number_of_reviews</th>\n",
       "      <th>review_scores_rating</th>\n",
       "      <th>host_listings_count</th>\n",
       "      <th>host_total_listings_count</th>\n",
       "    </tr>\n",
       "  </thead>\n",
       "  <tbody>\n",
       "    <tr>\n",
       "      <th>count</th>\n",
       "      <td>27743.000000</td>\n",
       "      <td>27743.000000</td>\n",
       "      <td>27743.000000</td>\n",
       "      <td>27743.000000</td>\n",
       "      <td>27743.000000</td>\n",
       "      <td>27743.000000</td>\n",
       "      <td>27743.000000</td>\n",
       "      <td>27743.000000</td>\n",
       "      <td>27740.000000</td>\n",
       "      <td>27740.000000</td>\n",
       "    </tr>\n",
       "    <tr>\n",
       "      <th>mean</th>\n",
       "      <td>18520.816458</td>\n",
       "      <td>40.727287</td>\n",
       "      <td>-73.942817</td>\n",
       "      <td>1.641063</td>\n",
       "      <td>2.861515</td>\n",
       "      <td>169.535198</td>\n",
       "      <td>34.855279</td>\n",
       "      <td>4.627475</td>\n",
       "      <td>35.313230</td>\n",
       "      <td>54.128983</td>\n",
       "    </tr>\n",
       "    <tr>\n",
       "      <th>std</th>\n",
       "      <td>10633.749373</td>\n",
       "      <td>0.058321</td>\n",
       "      <td>0.057102</td>\n",
       "      <td>1.080558</td>\n",
       "      <td>1.844291</td>\n",
       "      <td>137.243315</td>\n",
       "      <td>63.083764</td>\n",
       "      <td>0.740161</td>\n",
       "      <td>286.332942</td>\n",
       "      <td>416.281424</td>\n",
       "    </tr>\n",
       "    <tr>\n",
       "      <th>min</th>\n",
       "      <td>0.000000</td>\n",
       "      <td>40.500314</td>\n",
       "      <td>-74.249840</td>\n",
       "      <td>1.000000</td>\n",
       "      <td>1.000000</td>\n",
       "      <td>10.000000</td>\n",
       "      <td>1.000000</td>\n",
       "      <td>0.000000</td>\n",
       "      <td>1.000000</td>\n",
       "      <td>1.000000</td>\n",
       "    </tr>\n",
       "    <tr>\n",
       "      <th>25%</th>\n",
       "      <td>9320.500000</td>\n",
       "      <td>40.686375</td>\n",
       "      <td>-73.981030</td>\n",
       "      <td>1.000000</td>\n",
       "      <td>2.000000</td>\n",
       "      <td>80.000000</td>\n",
       "      <td>3.000000</td>\n",
       "      <td>4.600000</td>\n",
       "      <td>1.000000</td>\n",
       "      <td>1.000000</td>\n",
       "    </tr>\n",
       "    <tr>\n",
       "      <th>50%</th>\n",
       "      <td>18778.000000</td>\n",
       "      <td>40.721780</td>\n",
       "      <td>-73.951700</td>\n",
       "      <td>1.000000</td>\n",
       "      <td>2.000000</td>\n",
       "      <td>130.000000</td>\n",
       "      <td>11.000000</td>\n",
       "      <td>4.830000</td>\n",
       "      <td>2.000000</td>\n",
       "      <td>3.000000</td>\n",
       "    </tr>\n",
       "    <tr>\n",
       "      <th>75%</th>\n",
       "      <td>27394.500000</td>\n",
       "      <td>40.762703</td>\n",
       "      <td>-73.922988</td>\n",
       "      <td>2.000000</td>\n",
       "      <td>4.000000</td>\n",
       "      <td>203.000000</td>\n",
       "      <td>38.000000</td>\n",
       "      <td>5.000000</td>\n",
       "      <td>4.000000</td>\n",
       "      <td>7.000000</td>\n",
       "    </tr>\n",
       "    <tr>\n",
       "      <th>max</th>\n",
       "      <td>38791.000000</td>\n",
       "      <td>40.911147</td>\n",
       "      <td>-73.713650</td>\n",
       "      <td>21.000000</td>\n",
       "      <td>16.000000</td>\n",
       "      <td>999.000000</td>\n",
       "      <td>1843.000000</td>\n",
       "      <td>5.000000</td>\n",
       "      <td>4559.000000</td>\n",
       "      <td>8820.000000</td>\n",
       "    </tr>\n",
       "  </tbody>\n",
       "</table>\n",
       "</div>"
      ],
      "text/plain": [
       "         Unnamed: 0      latitude     longitude          beds  accommodates  \\\n",
       "count  27743.000000  27743.000000  27743.000000  27743.000000  27743.000000   \n",
       "mean   18520.816458     40.727287    -73.942817      1.641063      2.861515   \n",
       "std    10633.749373      0.058321      0.057102      1.080558      1.844291   \n",
       "min        0.000000     40.500314    -74.249840      1.000000      1.000000   \n",
       "25%     9320.500000     40.686375    -73.981030      1.000000      2.000000   \n",
       "50%    18778.000000     40.721780    -73.951700      1.000000      2.000000   \n",
       "75%    27394.500000     40.762703    -73.922988      2.000000      4.000000   \n",
       "max    38791.000000     40.911147    -73.713650     21.000000     16.000000   \n",
       "\n",
       "              price  number_of_reviews  review_scores_rating  \\\n",
       "count  27743.000000       27743.000000          27743.000000   \n",
       "mean     169.535198          34.855279              4.627475   \n",
       "std      137.243315          63.083764              0.740161   \n",
       "min       10.000000           1.000000              0.000000   \n",
       "25%       80.000000           3.000000              4.600000   \n",
       "50%      130.000000          11.000000              4.830000   \n",
       "75%      203.000000          38.000000              5.000000   \n",
       "max      999.000000        1843.000000              5.000000   \n",
       "\n",
       "       host_listings_count  host_total_listings_count  \n",
       "count         27740.000000               27740.000000  \n",
       "mean             35.313230                  54.128983  \n",
       "std             286.332942                 416.281424  \n",
       "min               1.000000                   1.000000  \n",
       "25%               1.000000                   1.000000  \n",
       "50%               2.000000                   3.000000  \n",
       "75%               4.000000                   7.000000  \n",
       "max            4559.000000                8820.000000  "
      ]
     },
     "execution_count": 22,
     "metadata": {},
     "output_type": "execute_result"
    }
   ],
   "source": [
    "airbnb_data.describe()"
   ]
  },
  {
   "cell_type": "code",
   "execution_count": 29,
   "metadata": {},
   "outputs": [
    {
     "data": {
      "text/plain": [
       "<Axes: >"
      ]
     },
     "execution_count": 29,
     "metadata": {},
     "output_type": "execute_result"
    },
    {
     "data": {
      "image/png": "[encoded data removed]",
      "text/plain": [
       "<Figure size 1400x600 with 1 Axes>"
      ]
     },
     "metadata": {},
     "output_type": "display_data"
    }
   ],
   "source": [
    "# Looking at the summary stats of bedrooms and also a boxplot\n",
    "# we can see there is one entry that has 15 bedrooms\n",
    "plt.figure(figsize=(14,6))\n",
    "sns.boxplot(airbnb_data.beds)"
   ]
  },
  {
   "cell_type": "code",
   "execution_count": 30,
   "metadata": {},
   "outputs": [
    {
     "data": {
      "text/html": [
       "<div>\n",
       "<style scoped>\n",
       "    .dataframe tbody tr th:only-of-type {\n",
       "        vertical-align: middle;\n",
       "    }\n",
       "\n",
       "    .dataframe tbody tr th {\n",
       "        vertical-align: top;\n",
       "    }\n",
       "\n",
       "    .dataframe thead th {\n",
       "        text-align: right;\n",
       "    }\n",
       "</style>\n",
       "<table border=\"1\" class=\"dataframe\">\n",
       "  <thead>\n",
       "    <tr style=\"text-align: right;\">\n",
       "      <th></th>\n",
       "      <th>Unnamed: 0</th>\n",
       "      <th>latitude</th>\n",
       "      <th>longitude</th>\n",
       "      <th>property_type</th>\n",
       "      <th>room_type</th>\n",
       "      <th>beds</th>\n",
       "      <th>accommodates</th>\n",
       "      <th>price</th>\n",
       "      <th>number_of_reviews</th>\n",
       "      <th>review_scores_rating</th>\n",
       "      <th>host_is_superhost</th>\n",
       "      <th>host_listings_count</th>\n",
       "      <th>host_total_listings_count</th>\n",
       "    </tr>\n",
       "  </thead>\n",
       "  <tbody>\n",
       "    <tr>\n",
       "      <th>3449</th>\n",
       "      <td>4534</td>\n",
       "      <td>40.85534</td>\n",
       "      <td>-73.89733</td>\n",
       "      <td>Private room in guesthouse</td>\n",
       "      <td>Private room</td>\n",
       "      <td>21.0</td>\n",
       "      <td>16</td>\n",
       "      <td>66.0</td>\n",
       "      <td>5</td>\n",
       "      <td>3.75</td>\n",
       "      <td>False</td>\n",
       "      <td>1.0</td>\n",
       "      <td>1.0</td>\n",
       "    </tr>\n",
       "  </tbody>\n",
       "</table>\n",
       "</div>"
      ],
      "text/plain": [
       "      Unnamed: 0  latitude  longitude               property_type  \\\n",
       "3449        4534  40.85534  -73.89733  Private room in guesthouse   \n",
       "\n",
       "         room_type  beds  accommodates  price  number_of_reviews  \\\n",
       "3449  Private room  21.0            16   66.0                  5   \n",
       "\n",
       "      review_scores_rating  host_is_superhost  host_listings_count  \\\n",
       "3449                  3.75              False                  1.0   \n",
       "\n",
       "      host_total_listings_count  \n",
       "3449                        1.0  "
      ]
     },
     "execution_count": 30,
     "metadata": {},
     "output_type": "execute_result"
    }
   ],
   "source": [
    "# Let's look at the entries with more bedrooms just to check\n",
    "# these entries - might be an error in entry\n",
    "airbnb_data[airbnb_data.beds > 15]"
   ]
  },
  {
   "cell_type": "code",
   "execution_count": 34,
   "metadata": {},
   "outputs": [],
   "source": [
    "#when we look at the outlier with 21 bedrooms we see that it is the only $66\n",
    "airbnb_data = airbnb_data[airbnb_data.beds <= 15]"
   ]
  },
  {
   "cell_type": "code",
   "execution_count": 35,
   "metadata": {},
   "outputs": [
    {
     "data": {
      "image/png": "[encoded data removed]",
      "text/plain": [
       "<Figure size 500x500 with 6 Axes>"
      ]
     },
     "metadata": {},
     "output_type": "display_data"
    }
   ],
   "source": [
    "#Multivariate analysis is used for understanding the interactions between each fields in the dataset more than two. In this method, we will be using pairplot\n",
    "\n",
    "features =[\"accommodates\", \"beds\"] \n",
    "sns.pairplot(airbnb_data[features])\n",
    "plt.show()"
   ]
  },
  {
   "cell_type": "code",
   "execution_count": 36,
   "metadata": {},
   "outputs": [
    {
     "data": {
      "text/html": [
       "<style>#sk-container-id-1 {color: black;background-color: white;}#sk-container-id-1 pre{padding: 0;}#sk-container-id-1 div.sk-toggleable {background-color: white;}#sk-container-id-1 label.sk-toggleable__label {cursor: pointer;display: block;width: 100%;margin-bottom: 0;padding: 0.3em;box-sizing: border-box;text-align: center;}#sk-container-id-1 label.sk-toggleable__label-arrow:before {content: \"▸\";float: left;margin-right: 0.25em;color: #696969;}#sk-container-id-1 label.sk-toggleable__label-arrow:hover:before {color: black;}#sk-container-id-1 div.sk-estimator:hover label.sk-toggleable__label-arrow:before {color: black;}#sk-container-id-1 div.sk-toggleable__content {max-height: 0;max-width: 0;overflow: hidden;text-align: left;background-color: #f0f8ff;}#sk-container-id-1 div.sk-toggleable__content pre {margin: 0.2em;color: black;border-radius: 0.25em;background-color: #f0f8ff;}#sk-container-id-1 input.sk-toggleable__control:checked~div.sk-toggleable__content {max-height: 200px;max-width: 100%;overflow: auto;}#sk-container-id-1 input.sk-toggleable__control:checked~label.sk-toggleable__label-arrow:before {content: \"▾\";}#sk-container-id-1 div.sk-estimator input.sk-toggleable__control:checked~label.sk-toggleable__label {background-color: #d4ebff;}#sk-container-id-1 div.sk-label input.sk-toggleable__control:checked~label.sk-toggleable__label {background-color: #d4ebff;}#sk-container-id-1 input.sk-hidden--visually {border: 0;clip: rect(1px 1px 1px 1px);clip: rect(1px, 1px, 1px, 1px);height: 1px;margin: -1px;overflow: hidden;padding: 0;position: absolute;width: 1px;}#sk-container-id-1 div.sk-estimator {font-family: monospace;background-color: #f0f8ff;border: 1px dotted black;border-radius: 0.25em;box-sizing: border-box;margin-bottom: 0.5em;}#sk-container-id-1 div.sk-estimator:hover {background-color: #d4ebff;}#sk-container-id-1 div.sk-parallel-item::after {content: \"\";width: 100%;border-bottom: 1px solid gray;flex-grow: 1;}#sk-container-id-1 div.sk-label:hover label.sk-toggleable__label {background-color: #d4ebff;}#sk-container-id-1 div.sk-serial::before {content: \"\";position: absolute;border-left: 1px solid gray;box-sizing: border-box;top: 0;bottom: 0;left: 50%;z-index: 0;}#sk-container-id-1 div.sk-serial {display: flex;flex-direction: column;align-items: center;background-color: white;padding-right: 0.2em;padding-left: 0.2em;position: relative;}#sk-container-id-1 div.sk-item {position: relative;z-index: 1;}#sk-container-id-1 div.sk-parallel {display: flex;align-items: stretch;justify-content: center;background-color: white;position: relative;}#sk-container-id-1 div.sk-item::before, #sk-container-id-1 div.sk-parallel-item::before {content: \"\";position: absolute;border-left: 1px solid gray;box-sizing: border-box;top: 0;bottom: 0;left: 50%;z-index: -1;}#sk-container-id-1 div.sk-parallel-item {display: flex;flex-direction: column;z-index: 1;position: relative;background-color: white;}#sk-container-id-1 div.sk-parallel-item:first-child::after {align-self: flex-end;width: 50%;}#sk-container-id-1 div.sk-parallel-item:last-child::after {align-self: flex-start;width: 50%;}#sk-container-id-1 div.sk-parallel-item:only-child::after {width: 0;}#sk-container-id-1 div.sk-dashed-wrapped {border: 1px dashed gray;margin: 0 0.4em 0.5em 0.4em;box-sizing: border-box;padding-bottom: 0.4em;background-color: white;}#sk-container-id-1 div.sk-label label {font-family: monospace;font-weight: bold;display: inline-block;line-height: 1.2em;}#sk-container-id-1 div.sk-label-container {text-align: center;}#sk-container-id-1 div.sk-container {/* jupyter's `normalize.less` sets `[hidden] { display: none; }` but bootstrap.min.css set `[hidden] { display: none !important; }` so we also need the `!important` here to be able to override the default hidden behavior on the sphinx rendered scikit-learn.org. See: https://github.com/scikit-learn/scikit-learn/issues/21755 */display: inline-block !important;position: relative;}#sk-container-id-1 div.sk-text-repr-fallback {display: none;}</style><div id=\"sk-container-id-1\" class=\"sk-top-container\"><div class=\"sk-text-repr-fallback\"><pre>LinearRegression()</pre><b>In a Jupyter environment, please rerun this cell to show the HTML representation or trust the notebook. <br />On GitHub, the HTML representation is unable to render, please try loading this page with nbviewer.org.</b></div><div class=\"sk-container\" hidden><div class=\"sk-item\"><div class=\"sk-estimator sk-toggleable\"><input class=\"sk-toggleable__control sk-hidden--visually\" id=\"sk-estimator-id-1\" type=\"checkbox\" checked><label for=\"sk-estimator-id-1\" class=\"sk-toggleable__label sk-toggleable__label-arrow\">LinearRegression</label><div class=\"sk-toggleable__content\"><pre>LinearRegression()</pre></div></div></div></div></div>"
      ],
      "text/plain": [
       "LinearRegression()"
      ]
     },
     "execution_count": 36,
     "metadata": {},
     "output_type": "execute_result"
    }
   ],
   "source": [
    "#Applying Regression Equation on the features\n",
    "Y = airbnb_data['price']\n",
    "X = airbnb_data[features]\n",
    "lm.fit(X, Y)"
   ]
  },
  {
   "cell_type": "code",
   "execution_count": 37,
   "metadata": {},
   "outputs": [
    {
     "data": {
      "text/plain": [
       "0.2534891666156115"
      ]
     },
     "execution_count": 37,
     "metadata": {},
     "output_type": "execute_result"
    }
   ],
   "source": [
    "lm.score(X, Y)"
   ]
  },
  {
   "cell_type": "code",
   "execution_count": 38,
   "metadata": {},
   "outputs": [
    {
     "name": "stdout",
     "output_type": "stream",
     "text": [
      "number of test samples: 4162\n",
      "number of training samples: 23580\n"
     ]
    }
   ],
   "source": [
    "x_train, x_test, y_train, y_test = train_test_split(X, Y, test_size=0.15, random_state=1)\n",
    "\n",
    "\n",
    "print(\"number of test samples:\", x_test.shape[0])\n",
    "print(\"number of training samples:\",x_train.shape[0])"
   ]
  },
  {
   "cell_type": "code",
   "execution_count": null,
   "metadata": {},
   "outputs": [],
   "source": []
  }
 ],
 "metadata": {
  "kernelspec": {
   "display_name": "Python 3 (ipykernel)",
   "language": "python",
   "name": "python3"
  },
  "language_info": {
   "codemirror_mode": {
    "name": "ipython",
    "version": 3
   },
   "file_extension": ".py",
   "mimetype": "text/x-python",
   "name": "python",
   "nbconvert_exporter": "python",
   "pygments_lexer": "ipython3",
   "version": "3.10.9"
  },
  "toc": {
   "base_numbering": 1,
   "nav_menu": {},
   "number_sections": true,
   "sideBar": true,
   "skip_h1_title": false,
   "title_cell": "Table of Contents",
   "title_sidebar": "Contents",
   "toc_cell": false,
   "toc_position": {},
   "toc_section_display": true,
   "toc_window_display": false
  },
  "varInspector": {
   "cols": {
    "lenName": 16,
    "lenType": 16,
    "lenVar": 40
   },
   "kernels_config": {
    "python": {
     "delete_cmd_postfix": "",
     "delete_cmd_prefix": "del ",
     "library": "var_list.py",
     "varRefreshCmd": "print(var_dic_list())"
    },
    "r": {
     "delete_cmd_postfix": ") ",
     "delete_cmd_prefix": "rm(",
     "library": "var_list.r",
     "varRefreshCmd": "cat(var_dic_list()) "
    }
   },
   "types_to_exclude": [
    "module",
    "function",
    "builtin_function_or_method",
    "instance",
    "_Feature"
   ],
   "window_display": false
  }
 },
 "nbformat": 4,
 "nbformat_minor": 4
}
